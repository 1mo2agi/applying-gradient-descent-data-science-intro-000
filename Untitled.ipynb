{
 "cells": [
  {
   "cell_type": "markdown",
   "metadata": {},
   "source": [
    "### \n",
    "* Hard to follow a verbal imagine, with different examples - so then have a way to also render that stuff\n",
    "* Some of the calculus - have some reps...need a little more practice doing partial derivatives\n",
    "* bonus labs for calculating the derivatives -> using the python makes the concepts approachable.\n",
    "* practice applying each of the shortcuts \n",
    "* readme about gradient descent - try to adjust the line, to really understand it use calculus \n",
    "\n"
   ]
  },
  {
   "cell_type": "code",
   "execution_count": null,
   "metadata": {
    "collapsed": true
   },
   "outputs": [],
   "source": []
  }
 ],
 "metadata": {
  "kernelspec": {
   "display_name": "Python 3",
   "language": "python",
   "name": "python3"
  },
  "language_info": {
   "codemirror_mode": {
    "name": "ipython",
    "version": 3
   },
   "file_extension": ".py",
   "mimetype": "text/x-python",
   "name": "python",
   "nbconvert_exporter": "python",
   "pygments_lexer": "ipython3",
   "version": "3.6.1"
  }
 },
 "nbformat": 4,
 "nbformat_minor": 2
}
